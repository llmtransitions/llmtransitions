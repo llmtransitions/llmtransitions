{
 "cells": [
  {
   "cell_type": "markdown",
   "id": "0",
   "metadata": {},
   "source": [
    "## Library"
   ]
  },
  {
   "cell_type": "code",
   "execution_count": null,
   "id": "1",
   "metadata": {},
   "outputs": [],
   "source": [
    "from confusion import *"
   ]
  },
  {
   "cell_type": "code",
   "execution_count": null,
   "id": "2",
   "metadata": {},
   "outputs": [],
   "source": [
    "from my_models import *"
   ]
  },
  {
   "cell_type": "code",
   "execution_count": null,
   "id": "3",
   "metadata": {},
   "outputs": [],
   "source": [
    "from geneval import *"
   ]
  },
  {
   "cell_type": "code",
   "execution_count": null,
   "id": "4",
   "metadata": {},
   "outputs": [],
   "source": [
    "def scan_pythias(xs, prompt, steps, model_params = '70m', device = 'cpu',\n",
    "                      n_iter = 8, out_length = 10, temperature = 1.):\n",
    "    '''\n",
    "    generate text for a parametrized prompt.\n",
    "    xs: parameters\n",
    "    my_prompt: a parametrizeable prompt\n",
    "    \n",
    "    returns dict with key = parameter, value = list of generated texts\n",
    "    '''\n",
    "    ys = {j: [] for j in xs}\n",
    "    for j in xs:\n",
    "        done = False\n",
    "        while not done:\n",
    "            try:\n",
    "                model, tokenizer = my_pythia(STEP = steps(j), model_params = model_params, device = device)\n",
    "                done = True\n",
    "            except: print('retry')\n",
    "        generated_output = f_generate_batch(model, tokenizer, [prompt]*n_iter, out_length,\n",
    "                                            temperature = temperature)\n",
    "        print(j, generated_output[0])\n",
    "        ys[j] = (generated_output)\n",
    "        del model\n",
    "    return ys"
   ]
  },
  {
   "cell_type": "code",
   "execution_count": null,
   "id": "5",
   "metadata": {},
   "outputs": [],
   "source": [
    "def logprobs_pythias(prompt, ys, xs, dxs, model_params = '70m', device = 'cpu'):\n",
    "    '''\n",
    "    return logprobs for prompts scan\n",
    "    '''\n",
    "    res = {}\n",
    "    indexes = [(j,jj) for j in xs for jj in dxs]\n",
    "    oldjjj = np.nan; model = np.nan\n",
    "    for index in sorted(indexes, key = lambda x: x[0] + x[1]):# iterate in minimal model reloading sequence\n",
    "        j, jj = index\n",
    "        print(j,j+jj)\n",
    "        if j+jj != oldjjj:\n",
    "            del model\n",
    "            model, tokenizer = my_pythia(STEP = steps(j+jj),\n",
    "                                         model_params = model_params, device = device) #only load if j+jj changed\n",
    "        oldjjj = j+jj\n",
    "        f_eval_temp = f_eval_prob_batch(model, tokenizer, [prompt]*len(ys[j]), ys[j])\n",
    "        for jjj, y_temp in enumerate(f_eval_temp):\n",
    "            res[j, j+jj, jjj] = y_temp\n",
    "    return res"
   ]
  },
  {
   "cell_type": "markdown",
   "id": "6",
   "metadata": {},
   "source": [
    "## Program"
   ]
  },
  {
   "cell_type": "markdown",
   "id": "7",
   "metadata": {},
   "source": [
    "### pythia scan"
   ]
  },
  {
   "cell_type": "code",
   "execution_count": null,
   "id": "8",
   "metadata": {},
   "outputs": [],
   "source": [
    "prompt = ' '\n",
    "n_params = '70m'\n",
    "xs = list(range(0, 143, 1))\n",
    "dxs = list(range(-1,2,1))\n",
    "n_iter = 8*128\n",
    "\n",
    "def steps(x): return np.minimum(142000, np.maximum(0, 1000*x))"
   ]
  },
  {
   "cell_type": "code",
   "execution_count": null,
   "id": "9",
   "metadata": {},
   "outputs": [],
   "source": [
    "ys = scan_pythias(xs, prompt, steps, model_params = n_params, device ='cpu',\n",
    "              n_iter = n_iter, out_length = 10, temperature = 1.)\n",
    "\n",
    "\n",
    "res = logprobs_pythias(prompt, ys, xs, dxs, model_params = n_params, device = 'cpu')"
   ]
  },
  {
   "cell_type": "code",
   "execution_count": null,
   "id": "10",
   "metadata": {},
   "outputs": [],
   "source": [
    "# calculate dissimilarity g with L-parameter L\n",
    "L=1\n",
    "Y, dY = stat_indicator_scan_final(xs,ys,res,L, g = lambda x: 2*x-1)"
   ]
  },
  {
   "cell_type": "code",
   "execution_count": null,
   "id": "11",
   "metadata": {},
   "outputs": [],
   "source": [
    "# plot\n",
    "import pylab as plt\n",
    "plt.plot(0.5*(np.array(xs[L:])+np.array(xs[:-L])), Y, 'o--')\n",
    "plt.xlabel('epcoh [1000]')\n",
    "plt.ylabel('dissimilarity')"
   ]
  },
  {
   "cell_type": "code",
   "execution_count": null,
   "id": "12",
   "metadata": {},
   "outputs": [],
   "source": []
  }
 ],
 "metadata": {
  "kernelspec": {
   "display_name": "Python 3 (ipykernel)",
   "language": "python",
   "name": "python3"
  },
  "language_info": {
   "codemirror_mode": {
    "name": "ipython",
    "version": 3
   },
   "file_extension": ".py",
   "mimetype": "text/x-python",
   "name": "python",
   "nbconvert_exporter": "python",
   "pygments_lexer": "ipython3",
   "version": "3.10.9"
  }
 },
 "nbformat": 4,
 "nbformat_minor": 5
}
