{
 "cells": [
  {
   "cell_type": "markdown",
   "id": "0",
   "metadata": {},
   "source": [
    "## Library"
   ]
  },
  {
   "cell_type": "code",
   "execution_count": null,
   "id": "1",
   "metadata": {},
   "outputs": [],
   "source": [
    "from confusion import *\n",
    "from my_models import *\n",
    "from geneval import *"
   ]
  },
  {
   "cell_type": "code",
   "execution_count": null,
   "id": "2",
   "metadata": {},
   "outputs": [],
   "source": [
    "def scan_temperatures(xs, prompt, model, tokenizer, temperatures,\n",
    "                      n_iter = 8, out_length = 10):\n",
    "    '''\n",
    "    generate text for a parametrized prompt.\n",
    "    xs: temperatures\n",
    "    my_prompt: a parametrizeable prompt\n",
    "    returns dict with key = temperature, value = list of generated texts\n",
    "    '''\n",
    "    ys = {j: [] for j in xs}\n",
    "    for j in xs:\n",
    "        generated_output = f_generate_batch(model, tokenizer, [prompt]*n_iter, out_length,\n",
    "                                            temperature=temperatures(j))\n",
    "        print(j, generated_output[0])\n",
    "        ys[j] = (generated_output)\n",
    "    return ys"
   ]
  },
  {
   "cell_type": "code",
   "execution_count": null,
   "id": "3",
   "metadata": {},
   "outputs": [],
   "source": [
    "def logprobs_temperatures(model, tokenizer, prompt, ys, xs, dxs, temperatures):\n",
    "    '''\n",
    "    return logprobs for prompts scan\n",
    "    '''\n",
    "    res = {}\n",
    "    for j in xs:\n",
    "        for jj in dxs:\n",
    "            print(j,jj)\n",
    "            f_eval_temp = f_eval_prob_batch(model, tokenizer, [prompt]*len(ys[j]), ys[j],\n",
    "                                            temperature = temperatures(j+jj))\n",
    "            for jjj, y_temp in enumerate(f_eval_temp):\n",
    "                res[j,j+jj, jjj] = y_temp\n",
    "    return res"
   ]
  },
  {
   "cell_type": "markdown",
   "id": "4",
   "metadata": {},
   "source": [
    "## temperature scan"
   ]
  },
  {
   "cell_type": "code",
   "execution_count": null,
   "id": "5",
   "metadata": {},
   "outputs": [],
   "source": [
    "model, tokenizer = my_pythia(device='cuda')"
   ]
  },
  {
   "cell_type": "code",
   "execution_count": null,
   "id": "6",
   "metadata": {},
   "outputs": [],
   "source": [
    "# parameters \n",
    "n_temps = 16 # number temperatures\n",
    "n_iter = 256 # batch size\n",
    "T_max = 2.1 # maximal temperatures\n",
    "\n",
    "xs = np.arange(1, n_temps)\n",
    "dxs = np.arange(-1,2,1) # what neighbors to consider\n",
    "\n",
    "def temperatures(x): return np.maximum(T_max*x/xs[-1], T_max*xs[0]/xs[-1])"
   ]
  },
  {
   "cell_type": "code",
   "execution_count": null,
   "id": "7",
   "metadata": {},
   "outputs": [],
   "source": [
    "prompt = 'I'"
   ]
  },
  {
   "cell_type": "code",
   "execution_count": null,
   "id": "8",
   "metadata": {},
   "outputs": [],
   "source": [
    "# generate samples\n"
   ]
  },
  {
   "cell_type": "code",
   "execution_count": null,
   "id": "9",
   "metadata": {},
   "outputs": [],
   "source": [
    "# eval samples at respective temperature\n"
   ]
  },
  {
   "cell_type": "code",
   "execution_count": null,
   "id": "10",
   "metadata": {},
   "outputs": [],
   "source": [
    "# calculate dissimilarity g with L-parameter L\n",
    "L=1\n",
    "\n",
    "Ys = []\n",
    "for j in range(1000):\n",
    "    ys = scan_temperatures(xs, prompt, model, tokenizer, temperatures, n_iter = n_iter, out_length=10)\n",
    "    res = logprobs_temperatures(model, tokenizer, prompt, ys, xs, dxs, temperatures)\n",
    "    Y, dY = stat_indicator_scan_final(xs,ys,res,L, g = lambda x: 2*x-1)\n",
    "    Ys.append(Y)"
   ]
  },
  {
   "cell_type": "code",
   "execution_count": null,
   "id": "11",
   "metadata": {},
   "outputs": [],
   "source": [
    "# plot\n",
    "import pylab as plt\n",
    "plt.plot(0.5*(temperatures(xs[L:])+temperatures(xs[:-L])), np.mean(Ys,axis=0), 'o')\n",
    "plt.xlabel('T*')\n",
    "plt.ylabel('dissimilarity')\n",
    "plt.ylim(0,0.45)"
   ]
  },
  {
   "cell_type": "code",
   "execution_count": null,
   "id": "12",
   "metadata": {},
   "outputs": [],
   "source": []
  }
 ],
 "metadata": {
  "kernelspec": {
   "display_name": "Python 3 (ipykernel)",
   "language": "python",
   "name": "python3"
  },
  "language_info": {
   "codemirror_mode": {
    "name": "ipython",
    "version": 3
   },
   "file_extension": ".py",
   "mimetype": "text/x-python",
   "name": "python",
   "nbconvert_exporter": "python",
   "pygments_lexer": "ipython3",
   "version": "3.9.13"
  }
 },
 "nbformat": 4,
 "nbformat_minor": 5
}
