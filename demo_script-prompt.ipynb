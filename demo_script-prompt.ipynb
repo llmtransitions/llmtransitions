{
 "cells": [
  {
   "cell_type": "markdown",
   "id": "0",
   "metadata": {},
   "source": [
    "## Library"
   ]
  },
  {
   "cell_type": "code",
   "execution_count": null,
   "id": "1",
   "metadata": {},
   "outputs": [],
   "source": [
    "from confusion import *"
   ]
  },
  {
   "cell_type": "code",
   "execution_count": null,
   "id": "2",
   "metadata": {},
   "outputs": [],
   "source": [
    "from my_models import *"
   ]
  },
  {
   "cell_type": "code",
   "execution_count": null,
   "id": "3",
   "metadata": {},
   "outputs": [],
   "source": [
    "from geneval import *"
   ]
  },
  {
   "cell_type": "code",
   "execution_count": null,
   "id": "4",
   "metadata": {},
   "outputs": [],
   "source": [
    "model, tokenizer = my_pythia()"
   ]
  },
  {
   "cell_type": "code",
   "execution_count": null,
   "id": "5",
   "metadata": {},
   "outputs": [],
   "source": [
    "def scan_prompts(xs, my_prompt, model, tokenizer,\n",
    "                      n_iter = 8, out_length = 10, temperature = 1.):\n",
    "    '''\n",
    "    generate text for a parametrized prompt.\n",
    "    xs: parameters\n",
    "    my_prompt: a parametrizeable prompt\n",
    "    \n",
    "    returns dict with key = parameter, value = list of generated texts\n",
    "    '''\n",
    "    ys = {j: [] for j in xs}\n",
    "    for j in xs:\n",
    "        prompt = my_prompt(j)\n",
    "        generated_output = f_generate_batch(model, tokenizer, [prompt]*n_iter, out_length,\n",
    "                                            temperature = temperature)\n",
    "        print(j, generated_output)\n",
    "        ys[j] = (generated_output)\n",
    "    return ys"
   ]
  },
  {
   "cell_type": "code",
   "execution_count": null,
   "id": "6",
   "metadata": {},
   "outputs": [],
   "source": [
    "def logprobs_prompts(model, tokenizer, my_prompt, ys, xs, dxs):\n",
    "    '''\n",
    "    return logprobs for prompts scan\n",
    "    '''\n",
    "    res = {}\n",
    "    for j in xs:\n",
    "        for jj in dxs:\n",
    "            print(j,jj)\n",
    "            prompt = my_prompt(j+jj)\n",
    "            f_eval_temp = f_eval_prob_batch(model, tokenizer, [prompt]*len(ys[j]), ys[j])\n",
    "            for jjj, y_temp in enumerate(f_eval_temp):\n",
    "                res[j,j+jj, jjj] = y_temp\n",
    "    return res"
   ]
  },
  {
   "cell_type": "markdown",
   "id": "7",
   "metadata": {},
   "source": [
    "## Program"
   ]
  },
  {
   "cell_type": "markdown",
   "id": "8",
   "metadata": {},
   "source": [
    "### prompt scan"
   ]
  },
  {
   "cell_type": "code",
   "execution_count": null,
   "id": "9",
   "metadata": {},
   "outputs": [],
   "source": [
    "def my_prompt(k):\n",
    "    return f'{2020+k}'"
   ]
  },
  {
   "cell_type": "code",
   "execution_count": null,
   "id": "10",
   "metadata": {},
   "outputs": [],
   "source": [
    "xs = list(range(-15,16,1))\n",
    "dxs = list(range(-1,2,1))\n",
    "n_iter = 2056\n",
    "\n",
    "xs, dxs"
   ]
  },
  {
   "cell_type": "code",
   "execution_count": null,
   "id": "11",
   "metadata": {},
   "outputs": [],
   "source": [
    "ys = scan_prompts(xs, my_prompt, model, tokenizer)"
   ]
  },
  {
   "cell_type": "code",
   "execution_count": null,
   "id": "12",
   "metadata": {},
   "outputs": [],
   "source": [
    "res = logprobs_prompts(model, tokenizer, my_prompt, ys, xs, dxs)"
   ]
  },
  {
   "cell_type": "code",
   "execution_count": null,
   "id": "13",
   "metadata": {},
   "outputs": [],
   "source": [
    "# calculate dissimilarity g with L-parameter L\n",
    "L=1\n",
    "Y, dY = stat_indicator_scan_final(xs,ys,res,L, g = lambda x: 2*x-1)"
   ]
  },
  {
   "cell_type": "code",
   "execution_count": null,
   "id": "14",
   "metadata": {},
   "outputs": [],
   "source": [
    "# plot\n",
    "import pylab as plt\n",
    "plt.plot(0.5*(np.array(xs[L:])+np.array(xs[:-L])), Y, 'o--')\n",
    "plt.xlabel('integer')\n",
    "plt.ylabel('dissimilarity')"
   ]
  },
  {
   "cell_type": "code",
   "execution_count": null,
   "id": "15",
   "metadata": {},
   "outputs": [],
   "source": []
  }
 ],
 "metadata": {
  "kernelspec": {
   "display_name": "Python 3 (ipykernel)",
   "language": "python",
   "name": "python3"
  },
  "language_info": {
   "codemirror_mode": {
    "name": "ipython",
    "version": 3
   },
   "file_extension": ".py",
   "mimetype": "text/x-python",
   "name": "python",
   "nbconvert_exporter": "python",
   "pygments_lexer": "ipython3",
   "version": "3.9.13"
  }
 },
 "nbformat": 4,
 "nbformat_minor": 5
}
